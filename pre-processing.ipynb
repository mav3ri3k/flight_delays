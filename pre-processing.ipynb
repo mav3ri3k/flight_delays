{
 "cells": [
  {
   "cell_type": "code",
   "execution_count": 1,
   "id": "12e0fe26-a8d1-4094-b876-c3ab6d199078",
   "metadata": {},
   "outputs": [],
   "source": [
    "import numpy as np\n",
    "import pandas as pd"
   ]
  },
  {
   "cell_type": "code",
   "execution_count": 2,
   "id": "28da5588-7063-4f7b-a61b-729246508524",
   "metadata": {},
   "outputs": [
    {
     "data": {
      "text/html": [
       "<div>\n",
       "<style scoped>\n",
       "    .dataframe tbody tr th:only-of-type {\n",
       "        vertical-align: middle;\n",
       "    }\n",
       "\n",
       "    .dataframe tbody tr th {\n",
       "        vertical-align: top;\n",
       "    }\n",
       "\n",
       "    .dataframe thead th {\n",
       "        text-align: right;\n",
       "    }\n",
       "</style>\n",
       "<table border=\"1\" class=\"dataframe\">\n",
       "  <thead>\n",
       "    <tr style=\"text-align: right;\">\n",
       "      <th></th>\n",
       "      <th>year</th>\n",
       "      <th>month</th>\n",
       "      <th>carrier</th>\n",
       "      <th>carrier_name</th>\n",
       "      <th>airport</th>\n",
       "      <th>airport_name</th>\n",
       "      <th>arr_flights</th>\n",
       "      <th>arr_del15</th>\n",
       "      <th>carrier_ct</th>\n",
       "      <th>weather_ct</th>\n",
       "      <th>...</th>\n",
       "      <th>security_ct</th>\n",
       "      <th>late_aircraft_ct</th>\n",
       "      <th>arr_cancelled</th>\n",
       "      <th>arr_diverted</th>\n",
       "      <th>arr_delay</th>\n",
       "      <th>carrier_delay</th>\n",
       "      <th>weather_delay</th>\n",
       "      <th>nas_delay</th>\n",
       "      <th>security_delay</th>\n",
       "      <th>late_aircraft_delay</th>\n",
       "    </tr>\n",
       "  </thead>\n",
       "  <tbody>\n",
       "    <tr>\n",
       "      <th>0</th>\n",
       "      <td>2023</td>\n",
       "      <td>8</td>\n",
       "      <td>9E</td>\n",
       "      <td>Endeavor Air Inc.</td>\n",
       "      <td>ABE</td>\n",
       "      <td>Allentown/Bethlehem/Easton, PA: Lehigh Valley ...</td>\n",
       "      <td>89.0</td>\n",
       "      <td>13.0</td>\n",
       "      <td>2.25</td>\n",
       "      <td>1.60</td>\n",
       "      <td>...</td>\n",
       "      <td>0.0</td>\n",
       "      <td>5.99</td>\n",
       "      <td>2.0</td>\n",
       "      <td>1.0</td>\n",
       "      <td>1375.0</td>\n",
       "      <td>71.0</td>\n",
       "      <td>761.0</td>\n",
       "      <td>118.0</td>\n",
       "      <td>0.0</td>\n",
       "      <td>425.0</td>\n",
       "    </tr>\n",
       "    <tr>\n",
       "      <th>1</th>\n",
       "      <td>2023</td>\n",
       "      <td>8</td>\n",
       "      <td>9E</td>\n",
       "      <td>Endeavor Air Inc.</td>\n",
       "      <td>ABY</td>\n",
       "      <td>Albany, GA: Southwest Georgia Regional</td>\n",
       "      <td>62.0</td>\n",
       "      <td>10.0</td>\n",
       "      <td>1.97</td>\n",
       "      <td>0.04</td>\n",
       "      <td>...</td>\n",
       "      <td>0.0</td>\n",
       "      <td>7.42</td>\n",
       "      <td>0.0</td>\n",
       "      <td>1.0</td>\n",
       "      <td>799.0</td>\n",
       "      <td>218.0</td>\n",
       "      <td>1.0</td>\n",
       "      <td>62.0</td>\n",
       "      <td>0.0</td>\n",
       "      <td>518.0</td>\n",
       "    </tr>\n",
       "    <tr>\n",
       "      <th>2</th>\n",
       "      <td>2023</td>\n",
       "      <td>8</td>\n",
       "      <td>9E</td>\n",
       "      <td>Endeavor Air Inc.</td>\n",
       "      <td>AEX</td>\n",
       "      <td>Alexandria, LA: Alexandria International</td>\n",
       "      <td>62.0</td>\n",
       "      <td>10.0</td>\n",
       "      <td>2.73</td>\n",
       "      <td>1.18</td>\n",
       "      <td>...</td>\n",
       "      <td>0.0</td>\n",
       "      <td>4.28</td>\n",
       "      <td>1.0</td>\n",
       "      <td>0.0</td>\n",
       "      <td>766.0</td>\n",
       "      <td>56.0</td>\n",
       "      <td>188.0</td>\n",
       "      <td>78.0</td>\n",
       "      <td>0.0</td>\n",
       "      <td>444.0</td>\n",
       "    </tr>\n",
       "    <tr>\n",
       "      <th>3</th>\n",
       "      <td>2023</td>\n",
       "      <td>8</td>\n",
       "      <td>9E</td>\n",
       "      <td>Endeavor Air Inc.</td>\n",
       "      <td>AGS</td>\n",
       "      <td>Augusta, GA: Augusta Regional at Bush Field</td>\n",
       "      <td>66.0</td>\n",
       "      <td>12.0</td>\n",
       "      <td>3.69</td>\n",
       "      <td>2.27</td>\n",
       "      <td>...</td>\n",
       "      <td>0.0</td>\n",
       "      <td>1.57</td>\n",
       "      <td>1.0</td>\n",
       "      <td>1.0</td>\n",
       "      <td>1397.0</td>\n",
       "      <td>471.0</td>\n",
       "      <td>320.0</td>\n",
       "      <td>388.0</td>\n",
       "      <td>0.0</td>\n",
       "      <td>218.0</td>\n",
       "    </tr>\n",
       "    <tr>\n",
       "      <th>4</th>\n",
       "      <td>2023</td>\n",
       "      <td>8</td>\n",
       "      <td>9E</td>\n",
       "      <td>Endeavor Air Inc.</td>\n",
       "      <td>ALB</td>\n",
       "      <td>Albany, NY: Albany International</td>\n",
       "      <td>92.0</td>\n",
       "      <td>22.0</td>\n",
       "      <td>7.76</td>\n",
       "      <td>0.00</td>\n",
       "      <td>...</td>\n",
       "      <td>0.0</td>\n",
       "      <td>11.28</td>\n",
       "      <td>2.0</td>\n",
       "      <td>0.0</td>\n",
       "      <td>1530.0</td>\n",
       "      <td>628.0</td>\n",
       "      <td>0.0</td>\n",
       "      <td>134.0</td>\n",
       "      <td>0.0</td>\n",
       "      <td>768.0</td>\n",
       "    </tr>\n",
       "  </tbody>\n",
       "</table>\n",
       "<p>5 rows × 21 columns</p>\n",
       "</div>"
      ],
      "text/plain": [
       "   year  month carrier       carrier_name airport  \\\n",
       "0  2023      8      9E  Endeavor Air Inc.     ABE   \n",
       "1  2023      8      9E  Endeavor Air Inc.     ABY   \n",
       "2  2023      8      9E  Endeavor Air Inc.     AEX   \n",
       "3  2023      8      9E  Endeavor Air Inc.     AGS   \n",
       "4  2023      8      9E  Endeavor Air Inc.     ALB   \n",
       "\n",
       "                                        airport_name  arr_flights  arr_del15  \\\n",
       "0  Allentown/Bethlehem/Easton, PA: Lehigh Valley ...         89.0       13.0   \n",
       "1             Albany, GA: Southwest Georgia Regional         62.0       10.0   \n",
       "2           Alexandria, LA: Alexandria International         62.0       10.0   \n",
       "3        Augusta, GA: Augusta Regional at Bush Field         66.0       12.0   \n",
       "4                   Albany, NY: Albany International         92.0       22.0   \n",
       "\n",
       "   carrier_ct  weather_ct  ...  security_ct  late_aircraft_ct  arr_cancelled  \\\n",
       "0        2.25        1.60  ...          0.0              5.99            2.0   \n",
       "1        1.97        0.04  ...          0.0              7.42            0.0   \n",
       "2        2.73        1.18  ...          0.0              4.28            1.0   \n",
       "3        3.69        2.27  ...          0.0              1.57            1.0   \n",
       "4        7.76        0.00  ...          0.0             11.28            2.0   \n",
       "\n",
       "   arr_diverted  arr_delay  carrier_delay  weather_delay  nas_delay  \\\n",
       "0           1.0     1375.0           71.0          761.0      118.0   \n",
       "1           1.0      799.0          218.0            1.0       62.0   \n",
       "2           0.0      766.0           56.0          188.0       78.0   \n",
       "3           1.0     1397.0          471.0          320.0      388.0   \n",
       "4           0.0     1530.0          628.0            0.0      134.0   \n",
       "\n",
       "   security_delay  late_aircraft_delay  \n",
       "0             0.0                425.0  \n",
       "1             0.0                518.0  \n",
       "2             0.0                444.0  \n",
       "3             0.0                218.0  \n",
       "4             0.0                768.0  \n",
       "\n",
       "[5 rows x 21 columns]"
      ]
     },
     "execution_count": 2,
     "metadata": {},
     "output_type": "execute_result"
    }
   ],
   "source": [
    "df = pd.read_csv('./flightdata.csv')\n",
    "df.head(5)"
   ]
  },
  {
   "cell_type": "markdown",
   "id": "3d376224-88a7-44bd-b00e-c6d0702351c3",
   "metadata": {},
   "source": [
    "# Drop names\n",
    "We already have carrier and airport codes\n",
    "Thus we don't need full airport and carrier names for training"
   ]
  },
  {
   "cell_type": "code",
   "execution_count": 3,
   "id": "eeb3bd5f-2af7-4e49-8f65-ce0f4ce40fe6",
   "metadata": {},
   "outputs": [],
   "source": [
    "df = df.drop(['airport_name'], axis=1)\n",
    "df = df.drop(['carrier_name'], axis=1)"
   ]
  },
  {
   "cell_type": "markdown",
   "id": "4088a5de-d2be-42d1-8e56-89abadad1d96",
   "metadata": {},
   "source": [
    "# Drop null values\n",
    "There are 240 missing rows out of 171,666, which is ~0.14% of the data.\n",
    "Therefore its fine to simply drop them."
   ]
  },
  {
   "cell_type": "code",
   "execution_count": 4,
   "id": "e882572f-b6ee-484a-896f-ead3cf514520",
   "metadata": {},
   "outputs": [
    {
     "data": {
      "text/plain": [
       "year                     0\n",
       "month                    0\n",
       "carrier                  0\n",
       "airport                  0\n",
       "arr_flights            240\n",
       "arr_del15              443\n",
       "carrier_ct             240\n",
       "weather_ct             240\n",
       "nas_ct                 240\n",
       "security_ct            240\n",
       "late_aircraft_ct       240\n",
       "arr_cancelled          240\n",
       "arr_diverted           240\n",
       "arr_delay              240\n",
       "carrier_delay          240\n",
       "weather_delay          240\n",
       "nas_delay              240\n",
       "security_delay         240\n",
       "late_aircraft_delay    240\n",
       "dtype: int64"
      ]
     },
     "execution_count": 4,
     "metadata": {},
     "output_type": "execute_result"
    }
   ],
   "source": [
    "df.isnull().sum()"
   ]
  },
  {
   "cell_type": "code",
   "execution_count": 5,
   "id": "1f72f5ce-cf38-47c3-9ab7-bb7564e391a2",
   "metadata": {},
   "outputs": [],
   "source": [
    "df = df.dropna()"
   ]
  },
  {
   "cell_type": "markdown",
   "id": "1e6f0f34-4ec8-4ae6-82fc-c939ae510901",
   "metadata": {},
   "source": [
    "# Drop noisly values\n",
    "- carrier_delay\n",
    "- weather_delay\n",
    "- nas_delay\n",
    "- security_delay\n",
    "- late_aircraft_delay\n",
    "\n",
    "These are only known after arrival, thus not relevant for prediction"
   ]
  },
  {
   "cell_type": "code",
   "execution_count": 6,
   "id": "a1dc71c0-87f2-4ef9-ad45-8d9b500d3520",
   "metadata": {},
   "outputs": [],
   "source": [
    "df = df.drop(['carrier_delay'], axis=1)\n",
    "df = df.drop(['weather_delay'], axis=1)\n",
    "df = df.drop(['nas_delay'], axis=1)\n",
    "df = df.drop(['security_delay'], axis=1)\n",
    "df = df.drop(['late_aircraft_delay'], axis=1)"
   ]
  },
  {
   "cell_type": "markdown",
   "id": "9c388b06-f7d3-48ad-abc8-8894f175b992",
   "metadata": {},
   "source": [
    "# Drop Year\n",
    "It's low variance and adds noise as almost all rows are from 2019–2020."
   ]
  },
  {
   "cell_type": "code",
   "execution_count": 7,
   "id": "f55e4f7f-a6ba-432b-914d-506012a42a68",
   "metadata": {},
   "outputs": [],
   "source": [
    "df = df.drop(['year'], axis=1)"
   ]
  },
  {
   "cell_type": "markdown",
   "id": "46e3682d-1d11-413a-a410-b04ef92cc916",
   "metadata": {},
   "source": [
    "# Label Encoding\n",
    "Carrier and Airport can be converted to encoded labels"
   ]
  },
  {
   "cell_type": "code",
   "execution_count": 8,
   "id": "7501e41b-6cf1-4000-b252-e7dd0791c585",
   "metadata": {},
   "outputs": [],
   "source": [
    "from utils import Labels\n",
    "\n",
    "labels = Labels(df)"
   ]
  },
  {
   "cell_type": "code",
   "execution_count": 9,
   "id": "73145112-6770-432b-a04b-d1b92fd6cc01",
   "metadata": {},
   "outputs": [],
   "source": [
    "from sklearn.preprocessing import LabelEncoder\n",
    "from sklearn.preprocessing import LabelEncoder\n",
    "\n",
    "le_carrier = LabelEncoder()\n",
    "le_carrier.fit(labels.carriers)\n",
    "df['carrier_encoded'] = le_carrier.transform(df['carrier'])\n",
    "\n",
    "le_airport = LabelEncoder()\n",
    "le_airport.fit(labels.airports)\n",
    "df['airport_encoded'] = le_airport.transform(df['airport'])\n"
   ]
  },
  {
   "cell_type": "code",
   "execution_count": 10,
   "id": "8ecd673c-775a-49a4-9e76-9cd7abc01700",
   "metadata": {},
   "outputs": [
    {
     "data": {
      "text/plain": [
       "['Labels.pkl']"
      ]
     },
     "execution_count": 10,
     "metadata": {},
     "output_type": "execute_result"
    }
   ],
   "source": [
    "import joblib\n",
    "\n",
    "labels.encoders(le_airport, le_carrier)\n",
    "joblib.dump(labels, \"Labels.pkl\")"
   ]
  },
  {
   "cell_type": "code",
   "execution_count": 11,
   "id": "bc4e1a40-b520-4053-8fda-f1e121042b7e",
   "metadata": {},
   "outputs": [],
   "source": [
    "df.drop(['carrier', 'airport'], axis=1, inplace=True)\n",
    "df = df.rename(columns={'carrier_encoded': 'carrier', 'airport_encoded': 'airport'})"
   ]
  },
  {
   "cell_type": "markdown",
   "id": "5683781e-4e72-4f4e-907d-32a35606b02d",
   "metadata": {},
   "source": [
    "# One Hot Encoding\n",
    "Your categorical features are:\n",
    "- carrier (23 unique codes)\n",
    "- airport (415 unique codes)\n",
    "\n",
    "Using one hot encoding here would result in huge features space which is unideal,\n",
    "Thus one-hot encoding is not done"
   ]
  },
  {
   "cell_type": "markdown",
   "id": "31fa6717-5491-424f-8d4c-49a3be0040c3",
   "metadata": {},
   "source": [
    "# Scaling\n",
    "No scaling required for RandomForest/XGBoost"
   ]
  },
  {
   "cell_type": "code",
   "execution_count": 12,
   "id": "26a26869-49d7-46c7-8e69-48c36fc09260",
   "metadata": {},
   "outputs": [],
   "source": [
    "# save pre-processed data\n",
    "# ready for model building\n",
    "\n",
    "df.to_csv(\"pre_processed.csv\", index=False)"
   ]
  },
  {
   "cell_type": "markdown",
   "id": "10f7e818-3d02-49a4-875d-ffcfd22ca6dc",
   "metadata": {},
   "source": [
    "# Depended and Independed variables\n",
    "We want to predict 'arr_delay', thus its target variable"
   ]
  },
  {
   "cell_type": "code",
   "execution_count": 13,
   "id": "c19cb7b3-5d57-45f4-9604-96b6c6997c27",
   "metadata": {},
   "outputs": [],
   "source": [
    "y = df['arr_delay']\n",
    "\n",
    "x = df.drop(['arr_delay'], axis=1)"
   ]
  },
  {
   "cell_type": "code",
   "execution_count": 14,
   "id": "22be7188-1fec-4734-b34d-b70113d6e655",
   "metadata": {},
   "outputs": [
    {
     "name": "stdout",
     "output_type": "stream",
     "text": [
      "0    1375.0\n",
      "1     799.0\n",
      "2     766.0\n",
      "3    1397.0\n",
      "4    1530.0\n",
      "Name: arr_delay, dtype: float64\n",
      "   month  arr_flights  arr_del15  carrier_ct  weather_ct  nas_ct  security_ct  \\\n",
      "0      8         89.0       13.0        2.25        1.60    3.16          0.0   \n",
      "1      8         62.0       10.0        1.97        0.04    0.57          0.0   \n",
      "2      8         62.0       10.0        2.73        1.18    1.80          0.0   \n",
      "3      8         66.0       12.0        3.69        2.27    4.47          0.0   \n",
      "4      8         92.0       22.0        7.76        0.00    2.96          0.0   \n",
      "\n",
      "   late_aircraft_ct  arr_cancelled  arr_diverted  carrier  airport  \n",
      "0              5.99            2.0           1.0        0        0  \n",
      "1              7.42            0.0           1.0        0        4  \n",
      "2              4.28            1.0           0.0        0       11  \n",
      "3              1.57            1.0           1.0        0       12  \n",
      "4             11.28            2.0           0.0        0       14  \n"
     ]
    }
   ],
   "source": [
    "print(y.head())\n",
    "print(x.head())"
   ]
  },
  {
   "cell_type": "code",
   "execution_count": null,
   "id": "5cfefb29-6efd-4420-abec-a1d0f1b1cc60",
   "metadata": {},
   "outputs": [],
   "source": []
  }
 ],
 "metadata": {
  "kernelspec": {
   "display_name": "Python 3 (ipykernel)",
   "language": "python",
   "name": "python3"
  },
  "language_info": {
   "codemirror_mode": {
    "name": "ipython",
    "version": 3
   },
   "file_extension": ".py",
   "mimetype": "text/x-python",
   "name": "python",
   "nbconvert_exporter": "python",
   "pygments_lexer": "ipython3",
   "version": "3.11.10"
  }
 },
 "nbformat": 4,
 "nbformat_minor": 5
}
