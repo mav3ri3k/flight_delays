{
 "cells": [
  {
   "cell_type": "code",
   "execution_count": 79,
   "id": "12e0fe26-a8d1-4094-b876-c3ab6d199078",
   "metadata": {},
   "outputs": [],
   "source": [
    "import numpy as np\n",
    "import pandas as pd"
   ]
  },
  {
   "cell_type": "code",
   "execution_count": 80,
   "id": "28da5588-7063-4f7b-a61b-729246508524",
   "metadata": {},
   "outputs": [],
   "source": [
    "df = pd.read_csv('./flightdata.csv')"
   ]
  },
  {
   "cell_type": "markdown",
   "id": "3d376224-88a7-44bd-b00e-c6d0702351c3",
   "metadata": {},
   "source": [
    "# Drop names\n",
    "We already have carrier and airport codes\n",
    "Thus we don't need full airport and carrier names for training"
   ]
  },
  {
   "cell_type": "code",
   "execution_count": 81,
   "id": "eeb3bd5f-2af7-4e49-8f65-ce0f4ce40fe6",
   "metadata": {},
   "outputs": [],
   "source": [
    "df = df.drop(['airport_name'], axis=1)\n",
    "df = df.drop(['carrier_name'], axis=1)"
   ]
  },
  {
   "cell_type": "markdown",
   "id": "4088a5de-d2be-42d1-8e56-89abadad1d96",
   "metadata": {},
   "source": [
    "# Drop null values\n",
    "There are 240 missing rows out of 171,666, which is ~0.14% of the data.\n",
    "Therefore its fine to simply drop them."
   ]
  },
  {
   "cell_type": "code",
   "execution_count": 82,
   "id": "e882572f-b6ee-484a-896f-ead3cf514520",
   "metadata": {},
   "outputs": [
    {
     "data": {
      "text/plain": [
       "year                     0\n",
       "month                    0\n",
       "carrier                  0\n",
       "airport                  0\n",
       "arr_flights            240\n",
       "arr_del15              443\n",
       "carrier_ct             240\n",
       "weather_ct             240\n",
       "nas_ct                 240\n",
       "security_ct            240\n",
       "late_aircraft_ct       240\n",
       "arr_cancelled          240\n",
       "arr_diverted           240\n",
       "arr_delay              240\n",
       "carrier_delay          240\n",
       "weather_delay          240\n",
       "nas_delay              240\n",
       "security_delay         240\n",
       "late_aircraft_delay    240\n",
       "dtype: int64"
      ]
     },
     "execution_count": 82,
     "metadata": {},
     "output_type": "execute_result"
    }
   ],
   "source": [
    "df.isnull().sum()"
   ]
  },
  {
   "cell_type": "code",
   "execution_count": 83,
   "id": "1f72f5ce-cf38-47c3-9ab7-bb7564e391a2",
   "metadata": {},
   "outputs": [],
   "source": [
    "df = df.dropna()"
   ]
  },
  {
   "cell_type": "markdown",
   "id": "1e6f0f34-4ec8-4ae6-82fc-c939ae510901",
   "metadata": {},
   "source": [
    "# Drop noisly values\n",
    "- carrier_delay\n",
    "- weather_delay\n",
    "- nas_delay\n",
    "- security_delay\n",
    "- late_aircraft_delay\n",
    "\n",
    "These are only known after arrival, thus not relevant for prediction"
   ]
  },
  {
   "cell_type": "code",
   "execution_count": 52,
   "id": "a1dc71c0-87f2-4ef9-ad45-8d9b500d3520",
   "metadata": {},
   "outputs": [],
   "source": [
    "df = df.drop(['carrier_delay'], axis=1)\n",
    "df = df.drop(['weather_delay'], axis=1)\n",
    "df = df.drop(['nas_delay'], axis=1)\n",
    "df = df.drop(['security_delay'], axis=1)\n",
    "df = df.drop(['late_aircraft_delay'], axis=1)"
   ]
  },
  {
   "cell_type": "markdown",
   "id": "9c388b06-f7d3-48ad-abc8-8894f175b992",
   "metadata": {},
   "source": [
    "# Drop Year\n",
    "It's low variance and adds noise as almost all rows are from 2019–2020."
   ]
  },
  {
   "cell_type": "code",
   "execution_count": 63,
   "id": "f55e4f7f-a6ba-432b-914d-506012a42a68",
   "metadata": {},
   "outputs": [],
   "source": [
    "df = df.drop(['year'], axis=1)"
   ]
  },
  {
   "cell_type": "markdown",
   "id": "46e3682d-1d11-413a-a410-b04ef92cc916",
   "metadata": {},
   "source": [
    "# Label Encoding\n",
    "Carrier and Airport can be converted to encoded labels"
   ]
  },
  {
   "cell_type": "code",
   "execution_count": 64,
   "id": "73145112-6770-432b-a04b-d1b92fd6cc01",
   "metadata": {},
   "outputs": [],
   "source": [
    "from sklearn.preprocessing import LabelEncoder\n",
    "from sklearn.preprocessing import LabelEncoder\n",
    "\n",
    "le_carrier= LabelEncoder()\n",
    "df['carrier_encoded'] = le_carrier_name.fit_transform(df['carrier'])\n",
    "\n",
    "le_airport = LabelEncoder()\n",
    "df['airport_encoded'] = le_carrier_name.fit_transform(df['airport'])\n"
   ]
  },
  {
   "cell_type": "code",
   "execution_count": 65,
   "id": "bc4e1a40-b520-4053-8fda-f1e121042b7e",
   "metadata": {},
   "outputs": [],
   "source": [
    "df.drop(['carrier', 'airport'], axis=1, inplace=True)\n",
    "df = df.rename(columns={'carrier_encoded': 'carrier', 'airport_encoded': 'airport'})"
   ]
  },
  {
   "cell_type": "markdown",
   "id": "5683781e-4e72-4f4e-907d-32a35606b02d",
   "metadata": {},
   "source": [
    "# One Hot Encoding\n",
    "Your categorical features are:\n",
    "- carrier (23 unique codes)\n",
    "- airport (415 unique codes)\n",
    "\n",
    "Using one hot encoding here would result in huge features space which is unideal,\n",
    "Thus one-hot encoding is not done"
   ]
  },
  {
   "cell_type": "markdown",
   "id": "31fa6717-5491-424f-8d4c-49a3be0040c3",
   "metadata": {},
   "source": [
    "# Scaling\n",
    "No scaling required for RandomForest/XGBoost"
   ]
  },
  {
   "cell_type": "markdown",
   "id": "10f7e818-3d02-49a4-875d-ffcfd22ca6dc",
   "metadata": {},
   "source": [
    "# Depended and Independed variables\n",
    "We want to predict 'arr_delay', thus its target variable"
   ]
  },
  {
   "cell_type": "code",
   "execution_count": 70,
   "id": "c19cb7b3-5d57-45f4-9604-96b6c6997c27",
   "metadata": {},
   "outputs": [],
   "source": [
    "y = df['arr_delay']\n",
    "\n",
    "x = df.drop(['arr_delay'], axis=1)"
   ]
  },
  {
   "cell_type": "code",
   "execution_count": 73,
   "id": "22be7188-1fec-4734-b34d-b70113d6e655",
   "metadata": {},
   "outputs": [
    {
     "name": "stdout",
     "output_type": "stream",
     "text": [
      "0    1375.0\n",
      "1     799.0\n",
      "2     766.0\n",
      "3    1397.0\n",
      "4    1530.0\n",
      "Name: arr_delay, dtype: float64\n",
      "   month  arr_flights  arr_del15  carrier_ct  weather_ct  nas_ct  security_ct  \\\n",
      "0      8         89.0       13.0        2.25        1.60    3.16          0.0   \n",
      "1      8         62.0       10.0        1.97        0.04    0.57          0.0   \n",
      "2      8         62.0       10.0        2.73        1.18    1.80          0.0   \n",
      "3      8         66.0       12.0        3.69        2.27    4.47          0.0   \n",
      "4      8         92.0       22.0        7.76        0.00    2.96          0.0   \n",
      "\n",
      "   late_aircraft_ct  arr_cancelled  arr_diverted  carrier  airport  \n",
      "0              5.99            2.0           1.0        0        0  \n",
      "1              7.42            0.0           1.0        0        4  \n",
      "2              4.28            1.0           0.0        0       11  \n",
      "3              1.57            1.0           1.0        0       12  \n",
      "4             11.28            2.0           0.0        0       14  \n"
     ]
    }
   ],
   "source": [
    "print(y.head())\n",
    "print(x.head())"
   ]
  },
  {
   "cell_type": "code",
   "execution_count": null,
   "id": "dd924dbb-21a5-4c84-b6e9-63c41c703d60",
   "metadata": {},
   "outputs": [],
   "source": []
  }
 ],
 "metadata": {
  "kernelspec": {
   "display_name": "Python 3 (ipykernel)",
   "language": "python",
   "name": "python3"
  },
  "language_info": {
   "codemirror_mode": {
    "name": "ipython",
    "version": 3
   },
   "file_extension": ".py",
   "mimetype": "text/x-python",
   "name": "python",
   "nbconvert_exporter": "python",
   "pygments_lexer": "ipython3",
   "version": "3.11.10"
  }
 },
 "nbformat": 4,
 "nbformat_minor": 5
}
