{
 "cells": [
  {
   "cell_type": "code",
   "execution_count": 139,
   "metadata": {
    "id": "G6WPUIAlLgK_"
   },
   "outputs": [],
   "source": [
    "import pandas as pd\n",
    "import numpy as np\n",
    "from sklearn.model_selection import train_test_split\n",
    "from sklearn.impute import SimpleImputer\n",
    "from sklearn.preprocessing import OrdinalEncoder, StandardScaler\n",
    "from sklearn.compose import make_column_transformer\n",
    "from sklearn.pipeline import make_pipeline\n",
    "from sklearn.linear_model import LogisticRegression\n",
    "from sklearn.ensemble import RandomForestClassifier, VotingClassifier\n",
    "from xgboost import XGBClassifier\n",
    "from sklearn.metrics import classification_report, confusion_matrix"
   ]
  },
  {
   "cell_type": "code",
   "execution_count": 140,
   "metadata": {
    "id": "ZpdzhK16LpHL"
   },
   "outputs": [
    {
     "data": {
      "text/html": [
       "<div>\n",
       "<style scoped>\n",
       "    .dataframe tbody tr th:only-of-type {\n",
       "        vertical-align: middle;\n",
       "    }\n",
       "\n",
       "    .dataframe tbody tr th {\n",
       "        vertical-align: top;\n",
       "    }\n",
       "\n",
       "    .dataframe thead th {\n",
       "        text-align: right;\n",
       "    }\n",
       "</style>\n",
       "<table border=\"1\" class=\"dataframe\">\n",
       "  <thead>\n",
       "    <tr style=\"text-align: right;\">\n",
       "      <th></th>\n",
       "      <th>month</th>\n",
       "      <th>arr_flights</th>\n",
       "      <th>arr_del15</th>\n",
       "      <th>carrier_ct</th>\n",
       "      <th>weather_ct</th>\n",
       "      <th>nas_ct</th>\n",
       "      <th>security_ct</th>\n",
       "      <th>late_aircraft_ct</th>\n",
       "      <th>arr_cancelled</th>\n",
       "      <th>arr_diverted</th>\n",
       "      <th>arr_delay</th>\n",
       "      <th>carrier</th>\n",
       "      <th>airport</th>\n",
       "    </tr>\n",
       "  </thead>\n",
       "  <tbody>\n",
       "    <tr>\n",
       "      <th>0</th>\n",
       "      <td>8</td>\n",
       "      <td>89.0</td>\n",
       "      <td>13.0</td>\n",
       "      <td>2.25</td>\n",
       "      <td>1.6</td>\n",
       "      <td>3.16</td>\n",
       "      <td>0.0</td>\n",
       "      <td>5.99</td>\n",
       "      <td>2.0</td>\n",
       "      <td>1.0</td>\n",
       "      <td>1375.0</td>\n",
       "      <td>0</td>\n",
       "      <td>0</td>\n",
       "    </tr>\n",
       "  </tbody>\n",
       "</table>\n",
       "</div>"
      ],
      "text/plain": [
       "   month  arr_flights  arr_del15  carrier_ct  weather_ct  nas_ct  security_ct  \\\n",
       "0      8         89.0       13.0        2.25         1.6    3.16          0.0   \n",
       "\n",
       "   late_aircraft_ct  arr_cancelled  arr_diverted  arr_delay  carrier  airport  \n",
       "0              5.99            2.0           1.0     1375.0        0        0  "
      ]
     },
     "execution_count": 140,
     "metadata": {},
     "output_type": "execute_result"
    }
   ],
   "source": [
    "# Load data\n",
    "df = pd.read_csv(\"pre_processed.csv\")\n",
    "df.head(1)"
   ]
  },
  {
   "cell_type": "code",
   "execution_count": 141,
   "metadata": {
    "colab": {
     "base_uri": "https://localhost:8080/"
    },
    "id": "j2e7GfOGLpJn",
    "outputId": "94764e92-988e-4b5a-b81f-ce2c2c19baf5"
   },
   "outputs": [],
   "source": [
    "# Create target variable\n",
    "df = df.dropna(subset=['arr_delay'])\n",
    "df['is_delayed'] = (df['arr_delay'] > 15).astype(int)\n",
    "X = df.drop(columns=['arr_delay', 'is_delayed'])\n",
    "y = df['is_delayed']"
   ]
  },
  {
   "cell_type": "code",
   "execution_count": 142,
   "metadata": {
    "colab": {
     "base_uri": "https://localhost:8080/"
    },
    "id": "zeHyUvtQLpMU",
    "outputId": "21b676e6-fbfe-41a1-e743-77f6094f7669"
   },
   "outputs": [
    {
     "name": "stdout",
     "output_type": "stream",
     "text": [
      "Class distribution:\n",
      " is_delayed\n",
      "1    164351\n",
      "0      6872\n",
      "Name: count, dtype: int64\n"
     ]
    }
   ],
   "source": [
    "# Show class balance\n",
    "print(\"Class distribution:\\n\", y.value_counts())"
   ]
  },
  {
   "cell_type": "code",
   "execution_count": 143,
   "metadata": {
    "id": "Wjyd2VwLLpPH"
   },
   "outputs": [],
   "source": [
    "# Identify column types\n",
    "cat_cols = X.select_dtypes(include='object').columns.tolist()\n",
    "num_cols = X.select_dtypes(include=['int64', 'float64']).columns.tolist()\n"
   ]
  },
  {
   "cell_type": "code",
   "execution_count": 144,
   "metadata": {
    "id": "7--wzT_hLpR8"
   },
   "outputs": [],
   "source": [
    "# Preprocessing\n",
    "preprocessor = make_column_transformer(\n",
    "    (make_pipeline(SimpleImputer(strategy='mean'), StandardScaler()), num_cols),\n",
    "    (make_pipeline(SimpleImputer(strategy='most_frequent'),\n",
    "                   OrdinalEncoder(handle_unknown='use_encoded_value', unknown_value=-1)), cat_cols)\n",
    ")"
   ]
  },
  {
   "cell_type": "code",
   "execution_count": 145,
   "metadata": {
    "id": "F0e3t8FOLpU2"
   },
   "outputs": [],
   "source": [
    "# Classifiers with improvements\n",
    "lr = LogisticRegression(max_iter=2000, solver='liblinear',C=0.5,class_weight='balanced')\n",
    "rf = RandomForestClassifier(n_estimators=100, random_state=42, class_weight='balanced')\n",
    "xgb = XGBClassifier(eval_metric='logloss', scale_pos_weight=1.5, random_state=42)\n"
   ]
  },
  {
   "cell_type": "code",
   "execution_count": 146,
   "metadata": {
    "id": "RVZ3-YWwLpXW"
   },
   "outputs": [],
   "source": [
    "# Voting ensemble (soft voting)\n",
    "voting_clf = VotingClassifier(\n",
    "    estimators=[('lr', lr), ('rf', rf), ('xgb', xgb)],\n",
    "    voting='soft',\n",
    "    weights=[1, 2, 2]\n",
    ")\n"
   ]
  },
  {
   "cell_type": "code",
   "execution_count": 147,
   "metadata": {
    "id": "pB4xopFxLpaB"
   },
   "outputs": [],
   "source": [
    "# Full pipeline\n",
    "pipeline = make_pipeline(preprocessor, voting_clf)\n",
    "\n",
    "# Train/test split\n",
    "X_train, X_test, y_train, y_test = train_test_split(X, y, test_size=0.2, random_state=42)\n",
    "\n",
    "# Fit\n",
    "pipeline.fit(X_train, y_train)\n",
    "\n",
    "# Predict\n",
    "y_pred = pipeline.predict(X_test)"
   ]
  },
  {
   "cell_type": "code",
   "execution_count": 148,
   "metadata": {},
   "outputs": [
    {
     "data": {
      "text/html": [
       "<div>\n",
       "<style scoped>\n",
       "    .dataframe tbody tr th:only-of-type {\n",
       "        vertical-align: middle;\n",
       "    }\n",
       "\n",
       "    .dataframe tbody tr th {\n",
       "        vertical-align: top;\n",
       "    }\n",
       "\n",
       "    .dataframe thead th {\n",
       "        text-align: right;\n",
       "    }\n",
       "</style>\n",
       "<table border=\"1\" class=\"dataframe\">\n",
       "  <thead>\n",
       "    <tr style=\"text-align: right;\">\n",
       "      <th></th>\n",
       "      <th>month</th>\n",
       "      <th>arr_flights</th>\n",
       "      <th>arr_del15</th>\n",
       "      <th>carrier_ct</th>\n",
       "      <th>weather_ct</th>\n",
       "      <th>nas_ct</th>\n",
       "      <th>security_ct</th>\n",
       "      <th>late_aircraft_ct</th>\n",
       "      <th>arr_cancelled</th>\n",
       "      <th>arr_diverted</th>\n",
       "      <th>carrier</th>\n",
       "      <th>airport</th>\n",
       "    </tr>\n",
       "  </thead>\n",
       "  <tbody>\n",
       "    <tr>\n",
       "      <th>157160</th>\n",
       "      <td>7</td>\n",
       "      <td>305.0</td>\n",
       "      <td>58.0</td>\n",
       "      <td>27.68</td>\n",
       "      <td>1.85</td>\n",
       "      <td>7.48</td>\n",
       "      <td>0.0</td>\n",
       "      <td>20.99</td>\n",
       "      <td>2.0</td>\n",
       "      <td>0.0</td>\n",
       "      <td>13</td>\n",
       "      <td>132</td>\n",
       "    </tr>\n",
       "  </tbody>\n",
       "</table>\n",
       "</div>"
      ],
      "text/plain": [
       "        month  arr_flights  arr_del15  carrier_ct  weather_ct  nas_ct  \\\n",
       "157160      7        305.0       58.0       27.68        1.85    7.48   \n",
       "\n",
       "        security_ct  late_aircraft_ct  arr_cancelled  arr_diverted  carrier  \\\n",
       "157160          0.0             20.99            2.0           0.0       13   \n",
       "\n",
       "        airport  \n",
       "157160      132  "
      ]
     },
     "execution_count": 148,
     "metadata": {},
     "output_type": "execute_result"
    }
   ],
   "source": [
    "X_test.head(1)"
   ]
  },
  {
   "cell_type": "code",
   "execution_count": 149,
   "metadata": {
    "colab": {
     "base_uri": "https://localhost:8080/"
    },
    "id": "HNxmWHA1LpdZ",
    "outputId": "a192672e-f0fe-48be-95c8-787af32ca477"
   },
   "outputs": [
    {
     "name": "stdout",
     "output_type": "stream",
     "text": [
      "\n",
      "=== Voting Ensemble Classifier ===\n",
      "Classification Report:\n",
      "              precision    recall  f1-score   support\n",
      "\n",
      "     On Time       1.00      0.96      0.98      1396\n",
      "     Delayed       1.00      1.00      1.00     32849\n",
      "\n",
      "    accuracy                           1.00     34245\n",
      "   macro avg       1.00      0.98      0.99     34245\n",
      "weighted avg       1.00      1.00      1.00     34245\n",
      "\n",
      "Confusion Matrix:\n",
      "[[ 1335    61]\n",
      " [    2 32847]]\n"
     ]
    }
   ],
   "source": [
    "# Evaluation\n",
    "print(\"\\n=== Voting Ensemble Classifier ===\")\n",
    "print(\"Classification Report:\")\n",
    "print(classification_report(y_test, y_pred, target_names=[\"On Time\", \"Delayed\"], zero_division=0))\n",
    "\n",
    "print(\"Confusion Matrix:\")\n",
    "print(confusion_matrix(y_test, y_pred))"
   ]
  },
  {
   "cell_type": "code",
   "execution_count": 150,
   "metadata": {
    "colab": {
     "base_uri": "https://localhost:8080/"
    },
    "id": "wjB5D1aALpi6",
    "outputId": "05145020-106c-4103-d217-04e1da8b2cb0"
   },
   "outputs": [
    {
     "name": "stdout",
     "output_type": "stream",
     "text": [
      "\n",
      "Sample Predictions:\n",
      "         Actual Predicted\n",
      "2800    Delayed   Delayed\n",
      "96945   Delayed   Delayed\n",
      "34886   Delayed   Delayed\n",
      "5526    Delayed   Delayed\n",
      "35443   Delayed   Delayed\n",
      "...         ...       ...\n",
      "29268   Delayed   Delayed\n",
      "88077   Delayed   Delayed\n",
      "78184   Delayed   Delayed\n",
      "130228  Delayed   Delayed\n",
      "49982   Delayed   Delayed\n",
      "\n",
      "[100 rows x 2 columns]\n"
     ]
    }
   ],
   "source": [
    "# Show predictions for a few test cases\n",
    "results = X_test.copy()\n",
    "results['Actual'] = y_test.map({0: \"On Time\", 1: \"Delayed\"}).values\n",
    "results['Predicted'] = pd.Series(y_pred, index=X_test.index).map({0: \"On Time\", 1: \"Delayed\"}).values\n",
    "print(\"\\nSample Predictions:\")\n",
    "print(results[['Actual', 'Predicted']].sample(100))\n",
    "\n"
   ]
  },
  {
   "cell_type": "code",
   "execution_count": 151,
   "metadata": {
    "id": "ly_MI3LpLplv"
   },
   "outputs": [],
   "source": [
    "results = X_test.copy()\n",
    "results['Actual'] = y_test.map({0: \"On Time\", 1: \"Delayed\"}).values\n",
    "results['Predicted'] = pd.Series(y_pred, index=X_test.index).map({0: \"On Time\", 1: \"Delayed\"}).values\n"
   ]
  },
  {
   "cell_type": "code",
   "execution_count": 152,
   "metadata": {
    "colab": {
     "base_uri": "https://localhost:8080/"
    },
    "id": "oAEFHYN0LpoS",
    "outputId": "9d5c4a4f-6199-416e-d909-fcdae8beaaec"
   },
   "outputs": [
    {
     "name": "stdout",
     "output_type": "stream",
     "text": [
      "\n",
      "Actual On-Time Flights Prediction Breakdown:\n",
      "Predicted\n",
      "On Time    1335\n",
      "Delayed      61\n",
      "Name: count, dtype: int64\n"
     ]
    }
   ],
   "source": [
    "on_time_flights = results[results['Actual'] == 'On Time']\n",
    "print(\"\\nActual On-Time Flights Prediction Breakdown:\")\n",
    "print(on_time_flights['Predicted'].value_counts())\n"
   ]
  },
  {
   "cell_type": "code",
   "execution_count": 153,
   "metadata": {
    "colab": {
     "base_uri": "https://localhost:8080/"
    },
    "id": "1KQ6UPsRLpq5",
    "outputId": "049ac01f-c55b-4237-f2fb-45d685ba26bf"
   },
   "outputs": [
    {
     "name": "stdout",
     "output_type": "stream",
     "text": [
      "\n",
      "Actual Delayed Flights Prediction Breakdown:\n",
      "Predicted\n",
      "Delayed    32847\n",
      "On Time        2\n",
      "Name: count, dtype: int64\n"
     ]
    }
   ],
   "source": [
    "delayed_flights = results[results['Actual'] == 'Delayed']\n",
    "print(\"\\nActual Delayed Flights Prediction Breakdown:\")\n",
    "print(delayed_flights['Predicted'].value_counts())\n"
   ]
  },
  {
   "cell_type": "code",
   "execution_count": 154,
   "metadata": {
    "colab": {
     "base_uri": "https://localhost:8080/"
    },
    "id": "OKCo0DYtLptd",
    "outputId": "1fdeb6fd-413d-48a3-dfc8-427cfd9f720a"
   },
   "outputs": [
    {
     "name": "stdout",
     "output_type": "stream",
     "text": [
      "\n",
      "Correct Predictions (Sample):\n",
      "        month  arr_flights  arr_del15  carrier_ct  weather_ct  nas_ct  \\\n",
      "155507      8        154.0       26.0        9.01        0.14    7.85   \n",
      "72918      12         48.0       11.0        6.00        1.00    1.00   \n",
      "109677      2        455.0      131.0       30.08        5.87   56.94   \n",
      "52551       1         31.0        3.0        0.37        0.00    1.63   \n",
      "20031       8        372.0       60.0       16.92        2.06   24.98   \n",
      "\n",
      "        security_ct  late_aircraft_ct  arr_cancelled  arr_diverted  carrier  \\\n",
      "155507         0.00              9.00            1.0           0.0        4   \n",
      "72918          0.00              3.00            0.0           0.0       19   \n",
      "109677         4.11             34.01            5.0           0.0        8   \n",
      "52551          0.00              1.00            1.0           0.0       20   \n",
      "20031          1.00             15.04            2.0           2.0       11   \n",
      "\n",
      "        airport   Actual Predicted  \n",
      "155507      371  Delayed   Delayed  \n",
      "72918       385  Delayed   Delayed  \n",
      "109677       29  Delayed   Delayed  \n",
      "52551       116  Delayed   Delayed  \n",
      "20031       366  Delayed   Delayed  \n"
     ]
    }
   ],
   "source": [
    "correct_preds = results[results['Actual'] == results['Predicted']]\n",
    "print(\"\\nCorrect Predictions (Sample):\")\n",
    "print(correct_preds.sample(5))"
   ]
  },
  {
   "cell_type": "code",
   "execution_count": 155,
   "metadata": {
    "colab": {
     "base_uri": "https://localhost:8080/"
    },
    "id": "E25gwBTBLpw6",
    "outputId": "3bcda523-abac-44e4-ee38-01e3af7e9f19"
   },
   "outputs": [
    {
     "name": "stdout",
     "output_type": "stream",
     "text": [
      "\n",
      "Incorrect Predictions (Sample):\n",
      "        month  arr_flights  arr_del15  carrier_ct  weather_ct  nas_ct  \\\n",
      "2797        7          1.0        1.0        0.00        0.07    0.93   \n",
      "122912      2          4.0        1.0        0.00        0.00    1.00   \n",
      "68279       2          8.0        1.0        0.27        0.00    0.53   \n",
      "28446       3          4.0        1.0        0.00        0.00    0.40   \n",
      "98589       9          1.0        1.0        0.00        0.00    1.00   \n",
      "\n",
      "        security_ct  late_aircraft_ct  arr_cancelled  arr_diverted  carrier  \\\n",
      "2797            0.0               0.0            0.0           0.0       13   \n",
      "122912          0.0               0.0            0.0           0.0        5   \n",
      "68279           0.0               0.2            0.0           0.0        6   \n",
      "28446           0.0               0.6            0.0           0.0       10   \n",
      "98589           0.0               0.0            0.0           0.0       15   \n",
      "\n",
      "        airport   Actual Predicted  \n",
      "2797         31  On Time   Delayed  \n",
      "122912      279  On Time   Delayed  \n",
      "68279       172  On Time   Delayed  \n",
      "28446       253  On Time   Delayed  \n",
      "98589        37  Delayed   On Time  \n"
     ]
    }
   ],
   "source": [
    "wrong_preds = results[results['Actual'] != results['Predicted']]\n",
    "print(\"\\nIncorrect Predictions (Sample):\")\n",
    "print(wrong_preds.sample(5))\n"
   ]
  },
  {
   "cell_type": "code",
   "execution_count": 156,
   "metadata": {
    "colab": {
     "base_uri": "https://localhost:8080/"
    },
    "id": "KnQVcp4qN_py",
    "outputId": "ecec6572-aae5-41dc-b214-58411f0d638a"
   },
   "outputs": [
    {
     "name": "stdout",
     "output_type": "stream",
     "text": [
      "\n",
      "Accuracy for On-Time Flights:\n",
      "95.63%\n",
      "\n",
      "Accuracy for Delayed Flights:\n",
      "99.99%\n"
     ]
    }
   ],
   "source": [
    "from sklearn.metrics import accuracy_score\n",
    "\n",
    "print(\"\\nAccuracy for On-Time Flights:\")\n",
    "on_time_acc = accuracy_score(\n",
    "    y_test[y_test == 0],\n",
    "    pd.Series(y_pred, index=y_test.index)[y_test == 0]\n",
    ")\n",
    "print(f\"{on_time_acc:.2%}\")\n",
    "\n",
    "print(\"\\nAccuracy for Delayed Flights:\")\n",
    "delayed_acc = accuracy_score(\n",
    "    y_test[y_test == 1],\n",
    "    pd.Series(y_pred, index=y_test.index)[y_test == 1]\n",
    ")\n",
    "print(f\"{delayed_acc:.2%}\")\n"
   ]
  },
  {
   "cell_type": "code",
   "execution_count": 157,
   "metadata": {
    "colab": {
     "base_uri": "https://localhost:8080/",
     "height": 410
    },
    "id": "9tRbbucSN_tO",
    "outputId": "61a826ee-5cee-4d7b-82c4-42958095af8f"
   },
   "outputs": [
    {
     "data": {
      "image/png": "[encoded data removed]",
      "text/plain": [
       "<Figure size 600x400 with 2 Axes>"
      ]
     },
     "metadata": {},
     "output_type": "display_data"
    }
   ],
   "source": [
    "import seaborn as sns\n",
    "import matplotlib.pyplot as plt\n",
    "from sklearn.metrics import confusion_matrix\n",
    "\n",
    "cm = confusion_matrix(y_test, y_pred)\n",
    "plt.figure(figsize=(6, 4))\n",
    "sns.heatmap(cm, annot=True, fmt=\"d\", cmap=\"Blues\", xticklabels=[\"On Time\", \"Delayed\"], yticklabels=[\"On Time\", \"Delayed\"])\n",
    "plt.xlabel(\"Predicted\")\n",
    "plt.ylabel(\"Actual\")\n",
    "plt.title(\"Confusion Matrix\")\n",
    "plt.show()\n"
   ]
  },
  {
   "cell_type": "code",
   "execution_count": 158,
   "metadata": {
    "colab": {
     "base_uri": "https://localhost:8080/",
     "height": 507
    },
    "id": "jgRO2D3ZN_zs",
    "outputId": "40f6c446-d22b-417d-ec1f-b52e612dfd5d"
   },
   "outputs": [
    {
     "data": {
      "image/png": "[encoded data removed]",
      "text/plain": [
       "<Figure size 800x500 with 1 Axes>"
      ]
     },
     "metadata": {},
     "output_type": "display_data"
    }
   ],
   "source": [
    "# Grouped count of Actual vs Predicted\n",
    "results_grouped = results.groupby([\"Actual\", \"Predicted\"]).size().unstack(fill_value=0)\n",
    "\n",
    "results_grouped.plot(kind=\"bar\", figsize=(8, 5), colormap=\"Set2\")\n",
    "plt.title(\"Flight Delay Prediction: Actual vs Predicted\")\n",
    "plt.ylabel(\"Number of Flights\")\n",
    "plt.xlabel(\"Actual Class\")\n",
    "plt.xticks(rotation=0)\n",
    "plt.grid(axis=\"y\")\n",
    "plt.legend(title=\"Predicted\")\n",
    "plt.tight_layout()\n",
    "plt.show()\n"
   ]
  },
  {
   "cell_type": "code",
   "execution_count": 159,
   "metadata": {
    "colab": {
     "base_uri": "https://localhost:8080/",
     "height": 472
    },
    "id": "Fa-fYhcrN_2D",
    "outputId": "a98b4f23-65f0-492d-9946-1f54ed2c5343"
   },
   "outputs": [
    {
     "data": {
      "image/png": "[encoded data removed]",
      "text/plain": [
       "<Figure size 640x480 with 1 Axes>"
      ]
     },
     "metadata": {},
     "output_type": "display_data"
    }
   ],
   "source": [
    "from sklearn.metrics import roc_curve, auc\n",
    "\n",
    "y_proba = pipeline.predict_proba(X_test)[:, 1]\n",
    "fpr, tpr, thresholds = roc_curve(y_test, y_proba)\n",
    "roc_auc = auc(fpr, tpr)\n",
    "\n",
    "plt.figure()\n",
    "plt.plot(fpr, tpr, color='darkorange', lw=2, label=f'ROC curve (AUC = {roc_auc:.2f})')\n",
    "plt.plot([0, 1], [0, 1], color='navy', lw=2, linestyle='--')\n",
    "plt.xlabel('False Positive Rate')\n",
    "plt.ylabel('True Positive Rate')\n",
    "plt.title('Receiver Operating Characteristic (ROC)')\n",
    "plt.legend(loc=\"lower right\")\n",
    "plt.grid()\n",
    "plt.show()\n"
   ]
  },
  {
   "cell_type": "code",
   "execution_count": 160,
   "metadata": {
    "colab": {
     "base_uri": "https://localhost:8080/",
     "height": 407
    },
    "id": "LXC2ShXmN_4V",
    "outputId": "42497d24-145c-4e94-f655-23824487bc35"
   },
   "outputs": [
    {
     "data": {
      "image/png": "[encoded data removed]",
      "text/plain": [
       "<Figure size 600x400 with 1 Axes>"
      ]
     },
     "metadata": {},
     "output_type": "display_data"
    }
   ],
   "source": [
    "from sklearn.metrics import precision_recall_curve, average_precision_score\n",
    "\n",
    "precision, recall, _ = precision_recall_curve(y_test, y_proba)\n",
    "avg_precision = average_precision_score(y_test, y_proba)\n",
    "\n",
    "# Plot\n",
    "plt.figure(figsize=(6, 4))\n",
    "plt.plot(recall, precision, label=f\"AP = {avg_precision:.2f}\", color=\"green\")\n",
    "plt.xlabel(\"Recall\")\n",
    "plt.ylabel(\"Precision\")\n",
    "plt.title(\"Precision-Recall Curve\")\n",
    "plt.legend(loc=\"upper right\")\n",
    "plt.grid(True)\n",
    "plt.tight_layout()\n",
    "plt.show()\n"
   ]
  },
  {
   "cell_type": "code",
   "execution_count": 161,
   "metadata": {
    "colab": {
     "base_uri": "https://localhost:8080/"
    },
    "id": "ZG-C5DyLN_6s",
    "outputId": "4d2d9530-24c9-4b83-98b2-37a0faa47086"
   },
   "outputs": [
    {
     "data": {
      "text/plain": [
       "['flight_delay_model.pkl']"
      ]
     },
     "execution_count": 161,
     "metadata": {},
     "output_type": "execute_result"
    }
   ],
   "source": [
    "import joblib\n",
    "joblib.dump(pipeline, \"flight_delay_model.pkl\")\n"
   ]
  }
 ],
 "metadata": {
  "colab": {
   "provenance": []
  },
  "kernelspec": {
   "display_name": "Python 3 (ipykernel)",
   "language": "python",
   "name": "python3"
  },
  "language_info": {
   "codemirror_mode": {
    "name": "ipython",
    "version": 3
   },
   "file_extension": ".py",
   "mimetype": "text/x-python",
   "name": "python",
   "nbconvert_exporter": "python",
   "pygments_lexer": "ipython3",
   "version": "3.11.10"
  }
 },
 "nbformat": 4,
 "nbformat_minor": 4
}
